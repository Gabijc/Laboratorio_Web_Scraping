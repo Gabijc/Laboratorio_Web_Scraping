{
 "cells": [
  {
   "cell_type": "markdown",
   "metadata": {},
   "source": [
    "# Análisis gobiernos emperadores de Roma "
   ]
  },
  {
   "cell_type": "code",
   "execution_count": null,
   "metadata": {},
   "outputs": [],
   "source": [
    "# Importamos las librerías necesarias\n",
    "import pandas as pd\n",
    "import numpy as np\n",
    "from src import funciones_soporte as fs\n",
    "import re"
   ]
  },
  {
   "cell_type": "code",
   "execution_count": 2,
   "metadata": {},
   "outputs": [
    {
     "data": {
      "text/html": [
       "<div>\n",
       "<style scoped>\n",
       "    .dataframe tbody tr th:only-of-type {\n",
       "        vertical-align: middle;\n",
       "    }\n",
       "\n",
       "    .dataframe tbody tr th {\n",
       "        vertical-align: top;\n",
       "    }\n",
       "\n",
       "    .dataframe thead th {\n",
       "        text-align: right;\n",
       "    }\n",
       "</style>\n",
       "<table border=\"1\" class=\"dataframe\">\n",
       "  <thead>\n",
       "    <tr style=\"text-align: right;\">\n",
       "      <th></th>\n",
       "      <th>nombre</th>\n",
       "      <th>inicio</th>\n",
       "      <th>fin</th>\n",
       "    </tr>\n",
       "  </thead>\n",
       "  <tbody>\n",
       "    <tr>\n",
       "      <th>0</th>\n",
       "      <td>AugustoGaius Iulius Caesar Augustus[a]​</td>\n",
       "      <td>16 de enero de27 a. C.</td>\n",
       "      <td>16 de enero de27 a. C.</td>\n",
       "    </tr>\n",
       "    <tr>\n",
       "      <th>1</th>\n",
       "      <td>TiberioTiberius Iulius Caesar</td>\n",
       "      <td>17 de septiembre de14</td>\n",
       "      <td>17 de septiembre de14</td>\n",
       "    </tr>\n",
       "    <tr>\n",
       "      <th>2</th>\n",
       "      <td>Calígula[d]​Gaius Iulius Caesar</td>\n",
       "      <td>16 de marzo de37</td>\n",
       "      <td>16 de marzo de37</td>\n",
       "    </tr>\n",
       "    <tr>\n",
       "      <th>3</th>\n",
       "      <td>ClaudioTiberius Claudius Caesar</td>\n",
       "      <td>24 de enero de41</td>\n",
       "      <td>24 de enero de41</td>\n",
       "    </tr>\n",
       "    <tr>\n",
       "      <th>4</th>\n",
       "      <td>NerónNero Claudius Caesar</td>\n",
       "      <td>13 de octubre de54</td>\n",
       "      <td>13 de octubre de54</td>\n",
       "    </tr>\n",
       "    <tr>\n",
       "      <th>...</th>\n",
       "      <td>...</td>\n",
       "      <td>...</td>\n",
       "      <td>...</td>\n",
       "    </tr>\n",
       "    <tr>\n",
       "      <th>87</th>\n",
       "      <td>Procopio AntemioProcopius Anthemius</td>\n",
       "      <td>12 de abril de467</td>\n",
       "      <td>12 de abril de467</td>\n",
       "    </tr>\n",
       "    <tr>\n",
       "      <th>88</th>\n",
       "      <td>Anicio OlibrioAnicius Olybrius</td>\n",
       "      <td>11 de julio – 2 de noviembre de472</td>\n",
       "      <td>11 de julio – 2 de noviembre de472</td>\n",
       "    </tr>\n",
       "    <tr>\n",
       "      <th>89</th>\n",
       "      <td>GlicerioGlicerius</td>\n",
       "      <td>3/5 de marzo de473</td>\n",
       "      <td>3/5 de marzo de473</td>\n",
       "    </tr>\n",
       "    <tr>\n",
       "      <th>90</th>\n",
       "      <td>Julio NepoteIulius Nepos</td>\n",
       "      <td>24 de junio de474</td>\n",
       "      <td>24 de junio de474</td>\n",
       "    </tr>\n",
       "    <tr>\n",
       "      <th>91</th>\n",
       "      <td>Rómulo AugústuloRomulus Augustus[ae]​</td>\n",
       "      <td>31 de octubre de475</td>\n",
       "      <td>31 de octubre de475</td>\n",
       "    </tr>\n",
       "  </tbody>\n",
       "</table>\n",
       "<p>92 rows × 3 columns</p>\n",
       "</div>"
      ],
      "text/plain": [
       "                                     nombre  \\\n",
       "0   AugustoGaius Iulius Caesar Augustus[a]​   \n",
       "1             TiberioTiberius Iulius Caesar   \n",
       "2           Calígula[d]​Gaius Iulius Caesar   \n",
       "3           ClaudioTiberius Claudius Caesar   \n",
       "4                 NerónNero Claudius Caesar   \n",
       "..                                      ...   \n",
       "87      Procopio AntemioProcopius Anthemius   \n",
       "88           Anicio OlibrioAnicius Olybrius   \n",
       "89                        GlicerioGlicerius   \n",
       "90                 Julio NepoteIulius Nepos   \n",
       "91    Rómulo AugústuloRomulus Augustus[ae]​   \n",
       "\n",
       "                                inicio                                 fin  \n",
       "0               16 de enero de27 a. C.              16 de enero de27 a. C.  \n",
       "1                17 de septiembre de14               17 de septiembre de14  \n",
       "2                     16 de marzo de37                    16 de marzo de37  \n",
       "3                     24 de enero de41                    24 de enero de41  \n",
       "4                   13 de octubre de54                  13 de octubre de54  \n",
       "..                                 ...                                 ...  \n",
       "87                   12 de abril de467                   12 de abril de467  \n",
       "88  11 de julio – 2 de noviembre de472  11 de julio – 2 de noviembre de472  \n",
       "89                  3/5 de marzo de473                  3/5 de marzo de473  \n",
       "90                   24 de junio de474                   24 de junio de474  \n",
       "91                 31 de octubre de475                 31 de octubre de475  \n",
       "\n",
       "[92 rows x 3 columns]"
      ]
     },
     "execution_count": 2,
     "metadata": {},
     "output_type": "execute_result"
    }
   ],
   "source": [
    "# Importamos el dataset de trabajo, en este caso el csv.\n",
    "datos_emperadores = pd.read_csv(\"emperadores_romanos.csv\", sep = \",\")\n",
    "datos_emperadores"
   ]
  },
  {
   "cell_type": "code",
   "execution_count": 3,
   "metadata": {},
   "outputs": [
    {
     "data": {
      "text/html": [
       "<div>\n",
       "<style scoped>\n",
       "    .dataframe tbody tr th:only-of-type {\n",
       "        vertical-align: middle;\n",
       "    }\n",
       "\n",
       "    .dataframe tbody tr th {\n",
       "        vertical-align: top;\n",
       "    }\n",
       "\n",
       "    .dataframe thead th {\n",
       "        text-align: right;\n",
       "    }\n",
       "</style>\n",
       "<table border=\"1\" class=\"dataframe\">\n",
       "  <thead>\n",
       "    <tr style=\"text-align: right;\">\n",
       "      <th></th>\n",
       "      <th>Tipo_dato</th>\n",
       "      <th>numero_registros</th>\n",
       "      <th>Numero_nulos</th>\n",
       "      <th>%_nulos</th>\n",
       "    </tr>\n",
       "  </thead>\n",
       "  <tbody>\n",
       "    <tr>\n",
       "      <th>nombre</th>\n",
       "      <td>object</td>\n",
       "      <td>92</td>\n",
       "      <td>0</td>\n",
       "      <td>0.0</td>\n",
       "    </tr>\n",
       "    <tr>\n",
       "      <th>inicio</th>\n",
       "      <td>object</td>\n",
       "      <td>92</td>\n",
       "      <td>0</td>\n",
       "      <td>0.0</td>\n",
       "    </tr>\n",
       "    <tr>\n",
       "      <th>fin</th>\n",
       "      <td>object</td>\n",
       "      <td>92</td>\n",
       "      <td>0</td>\n",
       "      <td>0.0</td>\n",
       "    </tr>\n",
       "  </tbody>\n",
       "</table>\n",
       "</div>"
      ],
      "text/plain": [
       "       Tipo_dato  numero_registros  Numero_nulos  %_nulos\n",
       "nombre    object                92             0      0.0\n",
       "inicio    object                92             0      0.0\n",
       "fin       object                92             0      0.0"
      ]
     },
     "execution_count": 3,
     "metadata": {},
     "output_type": "execute_result"
    }
   ],
   "source": [
    "# Vemos la información general sobre los datos que tenemos en el dataset \n",
    "fs.info_df(datos_emperadores)"
   ]
  },
  {
   "cell_type": "markdown",
   "metadata": {},
   "source": [
    "## **Análisis nombres emperadores de Roma**"
   ]
  },
  {
   "cell_type": "code",
   "execution_count": 4,
   "metadata": {},
   "outputs": [
    {
     "name": "stdout",
     "output_type": "stream",
     "text": [
      "En la historia de Roma ha habido un total de 92 emperadores. \n",
      "Es necesario tener en cuenta que estamos en un periodo desde el establecimiento del Principado hasta la caída del Imperio romano de Occidente.\n"
     ]
    }
   ],
   "source": [
    "# Vamos a ver el numero total de emperadores que ha habido en Roma\n",
    "numero_emperadores = datos_emperadores[\"nombre\"].count()\n",
    "print(f\"En la historia de Roma ha habido un total de {numero_emperadores} emperadores. \\nEs necesario tener en cuenta que estamos en un periodo desde el establecimiento del Principado hasta la caída del Imperio romano de Occidente.\")"
   ]
  },
  {
   "cell_type": "code",
   "execution_count": 5,
   "metadata": {},
   "outputs": [
    {
     "name": "stdout",
     "output_type": "stream",
     "text": [
      "0               AugustoGaius Iulius Caesar Augustus[a]​\n",
      "2                       Calígula[d]​Gaius Iulius Caesar\n",
      "22    Caracalla[o]​Lucius Septimius Bassianus(Marcus...\n",
      "25    Heliogábalo[p]​Sex.Varius Avitus Bassianus(Mar...\n",
      "51    Constancio I\"Cloro\"Marcus Flavius Valerius Con...\n",
      "77         Constantino IIIFl. Claudius Constantinus[y]​\n",
      "78                                    Constante II[aa]​\n",
      "91                Rómulo AugústuloRomulus Augustus[ae]​\n",
      "Name: nombre, dtype: object\n"
     ]
    }
   ],
   "source": [
    "# Observamos que hay una serie de nombres que contienen caracteres invisibles, coincidentes con \\u200b. Comprobamos cuales emperadores lo contienen.\n",
    "emperadores_corregir = datos_emperadores[datos_emperadores[\"nombre\"].str.contains(\"\\u200b\")]\n",
    "print(emperadores_corregir[\"nombre\"])"
   ]
  },
  {
   "cell_type": "code",
   "execution_count": 6,
   "metadata": {},
   "outputs": [],
   "source": [
    "fs.limpieza_caracteres(datos_emperadores, \"nombre\")"
   ]
  },
  {
   "cell_type": "code",
   "execution_count": 7,
   "metadata": {},
   "outputs": [
    {
     "name": "stdout",
     "output_type": "stream",
     "text": [
      "LicinioValerius Licinianus Licinus\n"
     ]
    }
   ],
   "source": [
    "print(datos_emperadores[\"nombre\"].iloc[56])"
   ]
  },
  {
   "cell_type": "code",
   "execution_count": 8,
   "metadata": {},
   "outputs": [],
   "source": [
    "# Los mismos elementos que contienen caracteres invisibles, contienen elementos con [] y una letra en su interior.\n",
    "elementos = [\"[a]\", \"[d]\",\"[o]\",\"[p]\",\"[w]\",\"[y]\",\"[aa]\",\"[ae]\"] \n",
    "for emperador in datos_emperadores[\"nombre\"]:\n",
    "    for i in elementos:\n",
    "        if i in emperador:\n",
    "            # emperador = emperador.replace(i, \"\")\n",
    "            print(emperador)"
   ]
  },
  {
   "cell_type": "code",
   "execution_count": 9,
   "metadata": {},
   "outputs": [
    {
     "data": {
      "text/plain": [
       "array(['AugustoGaius Iulius Caesar Augustus',\n",
       "       'TiberioTiberius Iulius Caesar', 'CalígulaGaius Iulius Caesar',\n",
       "       'ClaudioTiberius Claudius Caesar', 'NerónNero Claudius Caesar',\n",
       "       'GalbaServius Sulpicius Galba', 'OtónMarcus Salvius Otho',\n",
       "       'VitelioAulus Vitellius', 'VespasianoTitus Flavius Vespasianus',\n",
       "       'TitoTitus Flavius Vespasianus',\n",
       "       'DomicianoTitus Flavius Domitianus', 'NervaMarcus Cocceius Nerva',\n",
       "       'TrajanoMarcus Ulpius Traianus', 'AdrianoPublius Aelius Hadrianus',\n",
       "       'Antonino PíoTitus Aurelius Antoninus',\n",
       "       'Lucio VeroLucius Aelius Commodus(Lucius Aurelius Verus)',\n",
       "       'Marco AurelioMarcus Annius Verus(Marcus Aurelius Antoninus)',\n",
       "       'CómodoLucius Aurelius Commodus',\n",
       "       'PertinaxPublius Helvius Pertinax',\n",
       "       'Didio JulianoMarcus Didius Iulianus',\n",
       "       'Septimio SeveroLucius Septimius Severus',\n",
       "       'GetaPublius Septimus Geta',\n",
       "       'CaracallaLucius Septimius Bassianus(Marcus Aurelius Antoninus)',\n",
       "       'MacrinoMarcus Opellius Macrinus', 'Diadumeniano',\n",
       "       'HeliogábaloSex.Varius Avitus Bassianus(Marcus Aurelius Antoninus)',\n",
       "       'Severo Alejandro... ... Bassianus Alexianus(M.A.Severus Alexander)',\n",
       "       'Maximino I\"el Tracio\"Gaius Iulius Maximinus(Thrax)',\n",
       "       'Gordiano IGordiano II', 'Gordiano IIIMarcus Antonius Gordianus',\n",
       "       'Filipo\"el Árabe\"Marcus Iulius Philippus(Arabs)',\n",
       "       'DecioGaius Messius Quintus Decius',\n",
       "       'Treboniano GaloGaius Vibius Trebonianus Gallus',\n",
       "       'EmilianoMarcus Aemilus Aemilianus', 'SilbanacoMar. Silbannacus',\n",
       "       'ValerianoPublius Licinius Valerianus',\n",
       "       'GalienoP.Licinius Egnatius Gallienus',\n",
       "       'SaloninoP.Licinius Cornelius Saloninus',\n",
       "       'Claudio II\"el Gótico\"M.Aurelius Claudius(Gothicus)',\n",
       "       'QuintiloM.Aurelius Claudius Quintillus',\n",
       "       'AurelianoLucius Domitius Aurelianus', 'Ulpia Severina',\n",
       "       'TácitoMarcus Claudius Tacitus', 'FlorianoMarcus Annius Florianus',\n",
       "       'ProboMarcus Aurelius Probus', 'CaroMarcus Aurelius Carus',\n",
       "       'NumerianoM.A.Numerius Numerianus',\n",
       "       'CarinoMarcus Aurelius Carinus',\n",
       "       'DioclecianoGaius Aurelius Valerius Diocletianus',\n",
       "       'MaximianoMarcus Aurelius Valerius Maximianus',\n",
       "       'GalerioGaius Galerius Valerius Maximianus',\n",
       "       'Constancio I\"Cloro\"Marcus Flavius Valerius Constantius',\n",
       "       'Constantino I', 'Severo IIFlavius Valerius Severus',\n",
       "       'MajencioM.A.Valerius Maxentius',\n",
       "       'Maximino II\"Daya\"Galerius Valerius Maximinus',\n",
       "       'LicinioValerius Licinianus Licinus',\n",
       "       'Valente(I)Aurelius Valerius Valens',\n",
       "       'Constantino I\"el Grande\"Flavius Valerius Constantinus',\n",
       "       'Constantino IIFlavius Claudius Constantinus',\n",
       "       'Constante IFlavius Iulius Constans', 'MagnencioMagnus Magnentius',\n",
       "       'NepocianoIulius Nepotianus', 'VetraniónVetranio',\n",
       "       'Constancio IIFlavius Iulius Constantius',\n",
       "       'Juliano II\"el Apóstata\"Flavius Claudius Iulianus',\n",
       "       'JovianoIovianus', 'Valentiniano IValentinianus',\n",
       "       'Valente(II)Valens', 'ProcopioProcopius', 'GracianoGratianus',\n",
       "       'Magno MáximoMagnus Maximus', 'Víctor',\n",
       "       'Valentiniano IIValentinianus', 'EugenioEugenius',\n",
       "       'Teodosio I\"el Grande\"Theodosius(Magnus)', 'HonorioHonorius',\n",
       "       'Constantino IIIFl. Claudius Constantinus', 'Constante II',\n",
       "       'Prisco ÁtaloPriscus Attalus', 'Constancio IIIConstantius',\n",
       "       'JuanIoannes', 'Valentiniano IIIPlacidius Valentinianus',\n",
       "       'Petronio MáximoPetronius Maximus',\n",
       "       'Eparquio AvitoEparchius Avitus',\n",
       "       'MayorianoIulius Valerius Maiorianus', 'Severo IIILibius Severus',\n",
       "       'Procopio AntemioProcopius Anthemius',\n",
       "       'Anicio OlibrioAnicius Olybrius', 'GlicerioGlicerius',\n",
       "       'Julio NepoteIulius Nepos', 'Rómulo AugústuloRomulus Augustus'],\n",
       "      dtype=object)"
      ]
     },
     "execution_count": 9,
     "metadata": {},
     "output_type": "execute_result"
    }
   ],
   "source": [
    "# Comprobamos que solo tenemos nombres de emperadores en la columna de nombre\n",
    "datos_emperadores[\"nombre\"].unique()"
   ]
  },
  {
   "cell_type": "markdown",
   "metadata": {},
   "source": [
    "## **Fechas inicio y fin gobernanza emperadores**\n"
   ]
  },
  {
   "cell_type": "code",
   "execution_count": 10,
   "metadata": {},
   "outputs": [],
   "source": [
    "# Creamos nuevas columnas en las que realizaremos las modificaciones de las fechas para poder trabajar con ellas al final\n",
    "datos_emperadores[\"inicio_gobernanza\"] = datos_emperadores[\"inicio\"]\n",
    "datos_emperadores[\"fin_gobernanza\"] = datos_emperadores[\"fin\"]"
   ]
  },
  {
   "cell_type": "code",
   "execution_count": 11,
   "metadata": {},
   "outputs": [
    {
     "data": {
      "text/html": [
       "<div>\n",
       "<style scoped>\n",
       "    .dataframe tbody tr th:only-of-type {\n",
       "        vertical-align: middle;\n",
       "    }\n",
       "\n",
       "    .dataframe tbody tr th {\n",
       "        vertical-align: top;\n",
       "    }\n",
       "\n",
       "    .dataframe thead th {\n",
       "        text-align: right;\n",
       "    }\n",
       "</style>\n",
       "<table border=\"1\" class=\"dataframe\">\n",
       "  <thead>\n",
       "    <tr style=\"text-align: right;\">\n",
       "      <th></th>\n",
       "      <th>nombre</th>\n",
       "      <th>inicio</th>\n",
       "      <th>fin</th>\n",
       "      <th>inicio_gobernanza</th>\n",
       "      <th>fin_gobernanza</th>\n",
       "    </tr>\n",
       "  </thead>\n",
       "  <tbody>\n",
       "    <tr>\n",
       "      <th>0</th>\n",
       "      <td>AugustoGaius Iulius Caesar Augustus</td>\n",
       "      <td>16 de enero de27 a. C.</td>\n",
       "      <td>16 de enero de27 a. C.</td>\n",
       "      <td>16 de enero de27 a. C.</td>\n",
       "      <td>16 de enero de27 a. C.</td>\n",
       "    </tr>\n",
       "    <tr>\n",
       "      <th>1</th>\n",
       "      <td>TiberioTiberius Iulius Caesar</td>\n",
       "      <td>17 de septiembre de14</td>\n",
       "      <td>17 de septiembre de14</td>\n",
       "      <td>17 de septiembre de14</td>\n",
       "      <td>17 de septiembre de14</td>\n",
       "    </tr>\n",
       "  </tbody>\n",
       "</table>\n",
       "</div>"
      ],
      "text/plain": [
       "                                nombre                  inicio  \\\n",
       "0  AugustoGaius Iulius Caesar Augustus  16 de enero de27 a. C.   \n",
       "1        TiberioTiberius Iulius Caesar   17 de septiembre de14   \n",
       "\n",
       "                      fin       inicio_gobernanza          fin_gobernanza  \n",
       "0  16 de enero de27 a. C.  16 de enero de27 a. C.  16 de enero de27 a. C.  \n",
       "1   17 de septiembre de14   17 de septiembre de14   17 de septiembre de14  "
      ]
     },
     "execution_count": 11,
     "metadata": {},
     "output_type": "execute_result"
    }
   ],
   "source": [
    "datos_emperadores.head(2)"
   ]
  },
  {
   "cell_type": "markdown",
   "metadata": {},
   "source": [
    "## Fechas inicio"
   ]
  },
  {
   "cell_type": "code",
   "execution_count": 12,
   "metadata": {},
   "outputs": [
    {
     "data": {
      "text/plain": [
       "array(['16 de enero de27 a. C.', '17 de septiembre de14',\n",
       "       '16 de marzo de37', '24 de enero de41', '13 de octubre de54',\n",
       "       '8 de junio de 68', '15 de enero–16 de abril de 69',\n",
       "       '19 de abril–20/22 de diciembre de 69', '1 de julio de69',\n",
       "       '24 de junio de79', '14 de septiembre de81',\n",
       "       '18 de septiembre de96', '28 de enero de98', '11 de agosto de117',\n",
       "       '10 de julio de138', '7 de marzo de161', '17 de marzo de180',\n",
       "       '31 de diciembre de 192', '28 de marzo–2 de junio de 193',\n",
       "       '9 de abril de193[m]\\u200b', '4 de febrero de211',\n",
       "       '12 de abril de217', 'c.16 de mayo –c.8 de junio de 218',\n",
       "       '16 de mayo de218', '13 de marzo de222', 'c. marzo de 235',\n",
       "       'c.marzo – abril de 238', 'c. julio de 238', 'c. febrero de 244',\n",
       "       'c. septbre de 249', 'c. junio de 251',\n",
       "       'c. julio – septiembre de 253', '—', 'c. septiembre 253',\n",
       "       'c. julio de 260', 'septiembre 268', '270', 'c. mayo 270',\n",
       "       'c.270 – septiembre/octubre 275', 'c. noviembre 275',\n",
       "       'c. junio – septiembre 276', 'c. junio 276', 'c. septiembre 282',\n",
       "       'c. septiembre 283', '20 de noviembre de284', '1 de abril de286',\n",
       "       '1 de mayo de305', '25 de julio de 306', '25 de julio de306',\n",
       "       '28 de octubre de306', '¿1 de mayo? de310', '11 de novbre. de308',\n",
       "       'Diciembre de 316', '9 de septiembre de337', '18 de enero de350',\n",
       "       '3–30 de junio de 350', '1 de marzo – 25 de diciembre de 350',\n",
       "       '3 de noviembre de361', '27 de junio de363',\n",
       "       '25/26 de febrerode364', '28 de marzo de364', '26 de sept. de 365',\n",
       "       '17 de novbre. de375', '25 de agosto de 383', '384 – 388',\n",
       "       '28 de agosto de388', '22 de agosto de 392', '19 de enero de379',\n",
       "       '17 de enero de395', '407', '409 / 410', '409',\n",
       "       '8 de febrero – 2 de septiembre de421', '20 de noviembre de 423',\n",
       "       '23 de octubre425', '17 de marzo – 31 de mayo de455',\n",
       "       '9 de julio de455', '28 de diciembrede457[ab]\\u200b',\n",
       "       '19 de noviembre de461', '12 de abril de467',\n",
       "       '11 de julio – 2 de noviembre de472', '3/5 de marzo de473',\n",
       "       '24 de junio de474', '31 de octubre de475'], dtype=object)"
      ]
     },
     "execution_count": 12,
     "metadata": {},
     "output_type": "execute_result"
    }
   ],
   "source": [
    "datos_emperadores[\"inicio_gobernanza\"].unique()"
   ]
  },
  {
   "cell_type": "markdown",
   "metadata": {},
   "source": [
    "Problemas encontrados en las fechas de inicio:\n",
    "- Existencia de caracteres invisibles.\n",
    "- Existencia de letras o expresiones como: .c, a.C., ¿?\n",
    "- Hay fechas que contienen guiones, ya que hacen referencia al periodo de gobernanza entero.\n",
    "- Caracteres \"de\" que tendremos que eliminar.\n",
    "- Fechas en formato object, que habrá que modificar para poder trabajar con ellas.\n",
    "\n",
    "A continuación realizamos la limpieza de esta columna para poder finalmente tranasformarla en tipo fecha. "
   ]
  },
  {
   "cell_type": "markdown",
   "metadata": {},
   "source": [
    "### Limpieza de caracteres"
   ]
  },
  {
   "cell_type": "code",
   "execution_count": 13,
   "metadata": {},
   "outputs": [
    {
     "data": {
      "text/html": [
       "<div>\n",
       "<style scoped>\n",
       "    .dataframe tbody tr th:only-of-type {\n",
       "        vertical-align: middle;\n",
       "    }\n",
       "\n",
       "    .dataframe tbody tr th {\n",
       "        vertical-align: top;\n",
       "    }\n",
       "\n",
       "    .dataframe thead th {\n",
       "        text-align: right;\n",
       "    }\n",
       "</style>\n",
       "<table border=\"1\" class=\"dataframe\">\n",
       "  <thead>\n",
       "    <tr style=\"text-align: right;\">\n",
       "      <th></th>\n",
       "      <th>nombre</th>\n",
       "      <th>inicio</th>\n",
       "      <th>fin</th>\n",
       "      <th>inicio_gobernanza</th>\n",
       "      <th>fin_gobernanza</th>\n",
       "    </tr>\n",
       "  </thead>\n",
       "  <tbody>\n",
       "    <tr>\n",
       "      <th>20</th>\n",
       "      <td>Septimio SeveroLucius Septimius Severus</td>\n",
       "      <td>9 de abril de193[m]​</td>\n",
       "      <td>9 de abril de193[m]​</td>\n",
       "      <td>9 de abril de193[m]​</td>\n",
       "      <td>9 de abril de193[m]​</td>\n",
       "    </tr>\n",
       "    <tr>\n",
       "      <th>85</th>\n",
       "      <td>MayorianoIulius Valerius Maiorianus</td>\n",
       "      <td>28 de diciembrede457[ab]​</td>\n",
       "      <td>28 de diciembrede457[ab]​</td>\n",
       "      <td>28 de diciembrede457[ab]​</td>\n",
       "      <td>28 de diciembrede457[ab]​</td>\n",
       "    </tr>\n",
       "  </tbody>\n",
       "</table>\n",
       "</div>"
      ],
      "text/plain": [
       "                                     nombre                     inicio  \\\n",
       "20  Septimio SeveroLucius Septimius Severus       9 de abril de193[m]​   \n",
       "85      MayorianoIulius Valerius Maiorianus  28 de diciembrede457[ab]​   \n",
       "\n",
       "                          fin          inicio_gobernanza  \\\n",
       "20       9 de abril de193[m]​       9 de abril de193[m]​   \n",
       "85  28 de diciembrede457[ab]​  28 de diciembrede457[ab]​   \n",
       "\n",
       "               fin_gobernanza  \n",
       "20       9 de abril de193[m]​  \n",
       "85  28 de diciembrede457[ab]​  "
      ]
     },
     "execution_count": 13,
     "metadata": {},
     "output_type": "execute_result"
    }
   ],
   "source": [
    "# Observamos que hay una serie de nombres que contienen caracteres invisibles, coincidentes con \\u200b. Comprobamos que fechas lo contienen.\n",
    "datos_emperadores[datos_emperadores[\"inicio_gobernanza\"].str.contains(\"\\u200b\")]"
   ]
  },
  {
   "cell_type": "code",
   "execution_count": 14,
   "metadata": {},
   "outputs": [
    {
     "name": "stdout",
     "output_type": "stream",
     "text": [
      "9 de abril de193[m]​\n",
      "c.16 de mayo –c.8 de junio de 218\n",
      "c. marzo de 235\n",
      "c. marzo de 235\n",
      "c.marzo – abril de 238\n",
      "c. julio de 238\n",
      "c. julio de 238\n",
      "c. febrero de 244\n",
      "c. febrero de 244\n",
      "c. septbre de 249\n",
      "c. septbre de 249\n",
      "c. junio de 251\n",
      "c. junio de 251\n",
      "c. julio – septiembre de 253\n",
      "c. julio – septiembre de 253\n",
      "c. septiembre 253\n",
      "c. septiembre 253\n",
      "c. septiembre 253\n",
      "c. septiembre 253\n",
      "c. julio de 260\n",
      "c. julio de 260\n",
      "c. mayo 270\n",
      "c. mayo 270\n",
      "c.270 – septiembre/octubre 275\n",
      "c. noviembre 275\n",
      "c. noviembre 275\n",
      "c. junio – septiembre 276\n",
      "c. junio – septiembre 276\n",
      "c. junio 276\n",
      "c. junio 276\n",
      "c. septiembre 282\n",
      "c. septiembre 282\n",
      "c. septiembre 283\n",
      "c. septiembre 283\n",
      "c. septiembre 283\n",
      "c. septiembre 283\n",
      "¿1 de mayo? de310\n",
      "¿1 de mayo? de310\n",
      "28 de diciembrede457[ab]​\n"
     ]
    }
   ],
   "source": [
    "# Los mismos elementos que contienen caracteres invisibles, contienen elementos con [] y una letra en su interior.\n",
    "elementos1 = [\"[m]\", \"[ab]\", \"c.\", \"c. \", \"¿\", \"?\"]\n",
    "for fecha in datos_emperadores[\"inicio_gobernanza\"]:\n",
    "    for i in elementos1:\n",
    "        if i in fecha:\n",
    "            # emperador = emperador.replace(i, \"\")\n",
    "            print(fecha)"
   ]
  },
  {
   "cell_type": "code",
   "execution_count": 15,
   "metadata": {},
   "outputs": [],
   "source": [
    "fs.limpieza_caracteres(datos_emperadores, \"inicio_gobernanza\")"
   ]
  },
  {
   "cell_type": "markdown",
   "metadata": {},
   "source": [
    "### Elementos \"de\""
   ]
  },
  {
   "cell_type": "code",
   "execution_count": 16,
   "metadata": {},
   "outputs": [],
   "source": [
    "fs.limpieza_fechas(datos_emperadores, \"inicio_gobernanza\")"
   ]
  },
  {
   "cell_type": "markdown",
   "metadata": {},
   "source": [
    "## Fechas fin"
   ]
  },
  {
   "cell_type": "code",
   "execution_count": 17,
   "metadata": {},
   "outputs": [
    {
     "data": {
      "text/plain": [
       "array(['16 de enero de27 a. C.', '17 de septiembre de14',\n",
       "       '16 de marzo de37', '24 de enero de41', '13 de octubre de54',\n",
       "       '8 de junio de 68', '15 de enero–16 de abril de 69',\n",
       "       '19 de abril–20/22 de diciembre de 69', '1 de julio de69',\n",
       "       '24 de junio de79', '14 de septiembre de81',\n",
       "       '18 de septiembre de96', '28 de enero de98', '11 de agosto de117',\n",
       "       '10 de julio de138', '7 de marzo de161', '17 de marzo de180',\n",
       "       '31 de diciembre de 192', '28 de marzo–2 de junio de 193',\n",
       "       '9 de abril de193[m]\\u200b', '4 de febrero de211',\n",
       "       '12 de abril de217', 'c.16 de mayo –c.8 de junio de 218',\n",
       "       '16 de mayo de218', '13 de marzo de222', 'c. marzo de 235',\n",
       "       'c.marzo – abril de 238', 'c. julio de 238', 'c. febrero de 244',\n",
       "       'c. septbre de 249', 'c. junio de 251',\n",
       "       'c. julio – septiembre de 253', '—', 'c. septiembre 253',\n",
       "       'c. julio de 260', 'septiembre 268', '270', 'c. mayo 270',\n",
       "       'c.270 – septiembre/octubre 275', 'c. noviembre 275',\n",
       "       'c. junio – septiembre 276', 'c. junio 276', 'c. septiembre 282',\n",
       "       'c. septiembre 283', '20 de noviembre de284', '1 de mayo de305',\n",
       "       'mayo de311', '25 de julio de306', 'abril de307',\n",
       "       '28 de octubre de312', 'verano de313', '30 de abril de313',\n",
       "       '1 de marzo de 317', 'verano de340', 'c.18 de enero de350',\n",
       "       '10 de agosto de353', '3–30 de junio de 350',\n",
       "       '1 de marzo – 25 de diciembre de 350', '3 de noviembre de361',\n",
       "       '27 de junio de363', '17 de noviembrede375', '9 de agosto de378',\n",
       "       '27 de mayo de 366', '25 de agosto de383', '28 de agosto de 388',\n",
       "       '384 – 388', '15 de mayo de392', '6 de septiembre de 394',\n",
       "       '17 de enero de395', '407', '409 / 410', '409',\n",
       "       '8 de febrero – 2 de septiembre de421', '20 de noviembre de 423',\n",
       "       '23 de octubre425', '17 de marzo – 31 de mayo de455',\n",
       "       '9 de julio de455', '28 de diciembrede457[ab]\\u200b',\n",
       "       '19 de noviembre de461', '12 de abril de467',\n",
       "       '11 de julio – 2 de noviembre de472', '3/5 de marzo de473',\n",
       "       '24 de junio de474', '31 de octubre de475'], dtype=object)"
      ]
     },
     "execution_count": 17,
     "metadata": {},
     "output_type": "execute_result"
    }
   ],
   "source": [
    "datos_emperadores[\"fin_gobernanza\"].unique()"
   ]
  },
  {
   "cell_type": "markdown",
   "metadata": {},
   "source": [
    "En las fechas de fin nos encontramos con los mismos problemas que en las fechas de inicio.A continuación tratamos estos problemas. "
   ]
  },
  {
   "cell_type": "markdown",
   "metadata": {},
   "source": [
    "### Limpieza caracteres"
   ]
  },
  {
   "cell_type": "code",
   "execution_count": 18,
   "metadata": {},
   "outputs": [
    {
     "data": {
      "text/html": [
       "<div>\n",
       "<style scoped>\n",
       "    .dataframe tbody tr th:only-of-type {\n",
       "        vertical-align: middle;\n",
       "    }\n",
       "\n",
       "    .dataframe tbody tr th {\n",
       "        vertical-align: top;\n",
       "    }\n",
       "\n",
       "    .dataframe thead th {\n",
       "        text-align: right;\n",
       "    }\n",
       "</style>\n",
       "<table border=\"1\" class=\"dataframe\">\n",
       "  <thead>\n",
       "    <tr style=\"text-align: right;\">\n",
       "      <th></th>\n",
       "      <th>nombre</th>\n",
       "      <th>inicio</th>\n",
       "      <th>fin</th>\n",
       "      <th>inicio_gobernanza</th>\n",
       "      <th>fin_gobernanza</th>\n",
       "    </tr>\n",
       "  </thead>\n",
       "  <tbody>\n",
       "    <tr>\n",
       "      <th>20</th>\n",
       "      <td>Septimio SeveroLucius Septimius Severus</td>\n",
       "      <td>9 de abril de193[m]​</td>\n",
       "      <td>9 de abril de193[m]​</td>\n",
       "      <td>9  abril 193</td>\n",
       "      <td>9 de abril de193[m]​</td>\n",
       "    </tr>\n",
       "    <tr>\n",
       "      <th>85</th>\n",
       "      <td>MayorianoIulius Valerius Maiorianus</td>\n",
       "      <td>28 de diciembrede457[ab]​</td>\n",
       "      <td>28 de diciembrede457[ab]​</td>\n",
       "      <td>28  diciembre457</td>\n",
       "      <td>28 de diciembrede457[ab]​</td>\n",
       "    </tr>\n",
       "  </tbody>\n",
       "</table>\n",
       "</div>"
      ],
      "text/plain": [
       "                                     nombre                     inicio  \\\n",
       "20  Septimio SeveroLucius Septimius Severus       9 de abril de193[m]​   \n",
       "85      MayorianoIulius Valerius Maiorianus  28 de diciembrede457[ab]​   \n",
       "\n",
       "                          fin inicio_gobernanza             fin_gobernanza  \n",
       "20       9 de abril de193[m]​      9  abril 193       9 de abril de193[m]​  \n",
       "85  28 de diciembrede457[ab]​  28  diciembre457  28 de diciembrede457[ab]​  "
      ]
     },
     "execution_count": 18,
     "metadata": {},
     "output_type": "execute_result"
    }
   ],
   "source": [
    "# Observamos que hay una serie de nombres que contienen caracteres invisibles, coincidentes con \\u200b. Comprobamos que fechas lo contienen.\n",
    "datos_emperadores[datos_emperadores[\"fin_gobernanza\"].str.contains(\"\\u200b\")]"
   ]
  },
  {
   "cell_type": "code",
   "execution_count": 19,
   "metadata": {},
   "outputs": [
    {
     "name": "stdout",
     "output_type": "stream",
     "text": [
      "c.16 de mayo –c.8 de junio de 218\n",
      "c. marzo de 235\n",
      "c. marzo de 235\n",
      "c.marzo – abril de 238\n",
      "c. julio de 238\n",
      "c. julio de 238\n",
      "c. febrero de 244\n",
      "c. febrero de 244\n",
      "c. septbre de 249\n",
      "c. septbre de 249\n",
      "c. junio de 251\n",
      "c. junio de 251\n",
      "c. julio – septiembre de 253\n",
      "c. julio – septiembre de 253\n",
      "c. septiembre 253\n",
      "c. septiembre 253\n",
      "c. septiembre 253\n",
      "c. septiembre 253\n",
      "c. julio de 260\n",
      "c. julio de 260\n",
      "c. mayo 270\n",
      "c. mayo 270\n",
      "c.270 – septiembre/octubre 275\n",
      "c. noviembre 275\n",
      "c. noviembre 275\n",
      "c. junio – septiembre 276\n",
      "c. junio – septiembre 276\n",
      "c. junio 276\n",
      "c. junio 276\n",
      "c. septiembre 282\n",
      "c. septiembre 282\n",
      "c. septiembre 283\n",
      "c. septiembre 283\n",
      "c. septiembre 283\n",
      "c. septiembre 283\n",
      "c.18 de enero de350\n"
     ]
    }
   ],
   "source": [
    "# Los mismos elementos que contienen caracteres invisibles, contienen elementos con [] y una letra en su interior.\n",
    "elementos2 = [\"[r]\", \"[n]\", \"[z]\", \"[ac]\", \"[ad]\", \"c.\", \"c. \",\"(en Italia)\"]\n",
    "for fecha in datos_emperadores[\"fin_gobernanza\"]:\n",
    "    for i in elementos2:\n",
    "        if i in fecha:\n",
    "            # emperador = emperador.replace(i, \"\")\n",
    "            print(fecha)"
   ]
  },
  {
   "cell_type": "code",
   "execution_count": 20,
   "metadata": {},
   "outputs": [],
   "source": [
    "fs.limpieza_caracteres(datos_emperadores, \"fin_gobernanza\")"
   ]
  },
  {
   "cell_type": "code",
   "execution_count": 21,
   "metadata": {},
   "outputs": [
    {
     "data": {
      "text/html": [
       "<div>\n",
       "<style scoped>\n",
       "    .dataframe tbody tr th:only-of-type {\n",
       "        vertical-align: middle;\n",
       "    }\n",
       "\n",
       "    .dataframe tbody tr th {\n",
       "        vertical-align: top;\n",
       "    }\n",
       "\n",
       "    .dataframe thead th {\n",
       "        text-align: right;\n",
       "    }\n",
       "</style>\n",
       "<table border=\"1\" class=\"dataframe\">\n",
       "  <thead>\n",
       "    <tr style=\"text-align: right;\">\n",
       "      <th></th>\n",
       "      <th>nombre</th>\n",
       "      <th>inicio</th>\n",
       "      <th>fin</th>\n",
       "      <th>inicio_gobernanza</th>\n",
       "      <th>fin_gobernanza</th>\n",
       "    </tr>\n",
       "  </thead>\n",
       "  <tbody>\n",
       "  </tbody>\n",
       "</table>\n",
       "</div>"
      ],
      "text/plain": [
       "Empty DataFrame\n",
       "Columns: [nombre, inicio, fin, inicio_gobernanza, fin_gobernanza]\n",
       "Index: []"
      ]
     },
     "execution_count": 21,
     "metadata": {},
     "output_type": "execute_result"
    }
   ],
   "source": [
    "# Observamos que hay una serie de nombres que contienen caracteres invisibles, coincidentes con \\u200b. Comprobamos que fechas lo contienen.\n",
    "datos_emperadores[datos_emperadores[\"fin_gobernanza\"].str.contains(\"\\u200b\")]"
   ]
  },
  {
   "cell_type": "markdown",
   "metadata": {},
   "source": [
    "### Elementos \"de\""
   ]
  },
  {
   "cell_type": "code",
   "execution_count": 22,
   "metadata": {},
   "outputs": [],
   "source": [
    "fs.limpieza_fechas(datos_emperadores, \"fin_gobernanza\")"
   ]
  },
  {
   "cell_type": "markdown",
   "metadata": {},
   "source": [
    "### Valores con la fecha de inicio y fin en la entrada"
   ]
  },
  {
   "cell_type": "code",
   "execution_count": 35,
   "metadata": {},
   "outputs": [
    {
     "name": "stderr",
     "output_type": "stream",
     "text": [
      "C:\\Users\\gabri\\AppData\\Local\\Temp\\ipykernel_12528\\689909746.py:6: UserWarning: This pattern is interpreted as a regular expression, and has match groups. To actually get the groups, use str.extract.\n",
      "  data = datos_emperadores[datos_emperadores[\"inicio_gobernanza\"].str.contains(r\"(\\s–\\s|–\\s|\\s–|\\w-\\w)\")]\n"
     ]
    },
    {
     "ename": "ValueError",
     "evalue": "Columns must be same length as key",
     "output_type": "error",
     "traceback": [
      "\u001b[1;31m---------------------------------------------------------------------------\u001b[0m",
      "\u001b[1;31mValueError\u001b[0m                                Traceback (most recent call last)",
      "Cell \u001b[1;32mIn[35], line 10\u001b[0m\n\u001b[0;32m      6\u001b[0m data \u001b[38;5;241m=\u001b[39m datos_emperadores[datos_emperadores[\u001b[38;5;124m\"\u001b[39m\u001b[38;5;124minicio_gobernanza\u001b[39m\u001b[38;5;124m\"\u001b[39m]\u001b[38;5;241m.\u001b[39mstr\u001b[38;5;241m.\u001b[39mcontains(\u001b[38;5;124mr\u001b[39m\u001b[38;5;124m\"\u001b[39m\u001b[38;5;124m(\u001b[39m\u001b[38;5;124m\\\u001b[39m\u001b[38;5;124ms–\u001b[39m\u001b[38;5;124m\\\u001b[39m\u001b[38;5;124ms|–\u001b[39m\u001b[38;5;124m\\\u001b[39m\u001b[38;5;124ms|\u001b[39m\u001b[38;5;124m\\\u001b[39m\u001b[38;5;124ms–|\u001b[39m\u001b[38;5;124m\\\u001b[39m\u001b[38;5;124mw-\u001b[39m\u001b[38;5;124m\\\u001b[39m\u001b[38;5;124mw)\u001b[39m\u001b[38;5;124m\"\u001b[39m)]\n\u001b[0;32m      8\u001b[0m pattern \u001b[38;5;241m=\u001b[39m \u001b[38;5;124mr\u001b[39m\u001b[38;5;124m\"\u001b[39m\u001b[38;5;124m[-–—]\u001b[39m\u001b[38;5;124m\"\u001b[39m\n\u001b[1;32m---> 10\u001b[0m \u001b[43mdata\u001b[49m\u001b[43m[\u001b[49m\u001b[43m[\u001b[49m\u001b[38;5;124;43m\"\u001b[39;49m\u001b[38;5;124;43minicio_gobernanza\u001b[39;49m\u001b[38;5;124;43m\"\u001b[39;49m\u001b[43m,\u001b[49m\u001b[43m \u001b[49m\u001b[38;5;124;43m\"\u001b[39;49m\u001b[38;5;124;43mfin_gobernanza\u001b[39;49m\u001b[38;5;124;43m\"\u001b[39;49m\u001b[43m]\u001b[49m\u001b[43m]\u001b[49m \u001b[38;5;241m=\u001b[39m (\n\u001b[0;32m     11\u001b[0m     data[\u001b[38;5;124m\"\u001b[39m\u001b[38;5;124minicio_gobernanza\u001b[39m\u001b[38;5;124m\"\u001b[39m]\n\u001b[0;32m     12\u001b[0m     \u001b[38;5;241m.\u001b[39mstr\u001b[38;5;241m.\u001b[39msplit(pattern, n\u001b[38;5;241m=\u001b[39m\u001b[38;5;241m1\u001b[39m, expand\u001b[38;5;241m=\u001b[39m\u001b[38;5;28;01mTrue\u001b[39;00m)  \u001b[38;5;66;03m# Separa solo en el primer guion encontrado\u001b[39;00m\n\u001b[0;32m     13\u001b[0m )\n\u001b[0;32m     14\u001b[0m \u001b[38;5;66;03m#data[[\"inicio_gobernanza\", \"fin_gobernanza\"]] = data[\"inicio_gobernanza\"].str.split(pattern, expand = True)\u001b[39;00m\n\u001b[0;32m     15\u001b[0m \n\u001b[0;32m     16\u001b[0m \n\u001b[0;32m     17\u001b[0m \u001b[38;5;66;03m#datos_emperadores\u001b[39;00m\n",
      "File \u001b[1;32mc:\\Users\\gabri\\AppData\\Local\\Programs\\Python\\Python312\\Lib\\site-packages\\pandas\\core\\frame.py:4299\u001b[0m, in \u001b[0;36mDataFrame.__setitem__\u001b[1;34m(self, key, value)\u001b[0m\n\u001b[0;32m   4297\u001b[0m     \u001b[38;5;28mself\u001b[39m\u001b[38;5;241m.\u001b[39m_setitem_frame(key, value)\n\u001b[0;32m   4298\u001b[0m \u001b[38;5;28;01melif\u001b[39;00m \u001b[38;5;28misinstance\u001b[39m(key, (Series, np\u001b[38;5;241m.\u001b[39mndarray, \u001b[38;5;28mlist\u001b[39m, Index)):\n\u001b[1;32m-> 4299\u001b[0m     \u001b[38;5;28;43mself\u001b[39;49m\u001b[38;5;241;43m.\u001b[39;49m\u001b[43m_setitem_array\u001b[49m\u001b[43m(\u001b[49m\u001b[43mkey\u001b[49m\u001b[43m,\u001b[49m\u001b[43m \u001b[49m\u001b[43mvalue\u001b[49m\u001b[43m)\u001b[49m\n\u001b[0;32m   4300\u001b[0m \u001b[38;5;28;01melif\u001b[39;00m \u001b[38;5;28misinstance\u001b[39m(value, DataFrame):\n\u001b[0;32m   4301\u001b[0m     \u001b[38;5;28mself\u001b[39m\u001b[38;5;241m.\u001b[39m_set_item_frame_value(key, value)\n",
      "File \u001b[1;32mc:\\Users\\gabri\\AppData\\Local\\Programs\\Python\\Python312\\Lib\\site-packages\\pandas\\core\\frame.py:4341\u001b[0m, in \u001b[0;36mDataFrame._setitem_array\u001b[1;34m(self, key, value)\u001b[0m\n\u001b[0;32m   4336\u001b[0m \u001b[38;5;28;01melse\u001b[39;00m:\n\u001b[0;32m   4337\u001b[0m     \u001b[38;5;66;03m# Note: unlike self.iloc[:, indexer] = value, this will\u001b[39;00m\n\u001b[0;32m   4338\u001b[0m     \u001b[38;5;66;03m#  never try to overwrite values inplace\u001b[39;00m\n\u001b[0;32m   4340\u001b[0m     \u001b[38;5;28;01mif\u001b[39;00m \u001b[38;5;28misinstance\u001b[39m(value, DataFrame):\n\u001b[1;32m-> 4341\u001b[0m         \u001b[43mcheck_key_length\u001b[49m\u001b[43m(\u001b[49m\u001b[38;5;28;43mself\u001b[39;49m\u001b[38;5;241;43m.\u001b[39;49m\u001b[43mcolumns\u001b[49m\u001b[43m,\u001b[49m\u001b[43m \u001b[49m\u001b[43mkey\u001b[49m\u001b[43m,\u001b[49m\u001b[43m \u001b[49m\u001b[43mvalue\u001b[49m\u001b[43m)\u001b[49m\n\u001b[0;32m   4342\u001b[0m         \u001b[38;5;28;01mfor\u001b[39;00m k1, k2 \u001b[38;5;129;01min\u001b[39;00m \u001b[38;5;28mzip\u001b[39m(key, value\u001b[38;5;241m.\u001b[39mcolumns):\n\u001b[0;32m   4343\u001b[0m             \u001b[38;5;28mself\u001b[39m[k1] \u001b[38;5;241m=\u001b[39m value[k2]\n",
      "File \u001b[1;32mc:\\Users\\gabri\\AppData\\Local\\Programs\\Python\\Python312\\Lib\\site-packages\\pandas\\core\\indexers\\utils.py:390\u001b[0m, in \u001b[0;36mcheck_key_length\u001b[1;34m(columns, key, value)\u001b[0m\n\u001b[0;32m    388\u001b[0m \u001b[38;5;28;01mif\u001b[39;00m columns\u001b[38;5;241m.\u001b[39mis_unique:\n\u001b[0;32m    389\u001b[0m     \u001b[38;5;28;01mif\u001b[39;00m \u001b[38;5;28mlen\u001b[39m(value\u001b[38;5;241m.\u001b[39mcolumns) \u001b[38;5;241m!=\u001b[39m \u001b[38;5;28mlen\u001b[39m(key):\n\u001b[1;32m--> 390\u001b[0m         \u001b[38;5;28;01mraise\u001b[39;00m \u001b[38;5;167;01mValueError\u001b[39;00m(\u001b[38;5;124m\"\u001b[39m\u001b[38;5;124mColumns must be same length as key\u001b[39m\u001b[38;5;124m\"\u001b[39m)\n\u001b[0;32m    391\u001b[0m \u001b[38;5;28;01melse\u001b[39;00m:\n\u001b[0;32m    392\u001b[0m     \u001b[38;5;66;03m# Missing keys in columns are represented as -1\u001b[39;00m\n\u001b[0;32m    393\u001b[0m     \u001b[38;5;28;01mif\u001b[39;00m \u001b[38;5;28mlen\u001b[39m(columns\u001b[38;5;241m.\u001b[39mget_indexer_non_unique(key)[\u001b[38;5;241m0\u001b[39m]) \u001b[38;5;241m!=\u001b[39m \u001b[38;5;28mlen\u001b[39m(value\u001b[38;5;241m.\u001b[39mcolumns):\n",
      "\u001b[1;31mValueError\u001b[0m: Columns must be same length as key"
     ]
    }
   ],
   "source": [
    "# Tenemos una serie de celdas que contienen directamente la fecha de inicio y fin de la gobernanza de los emperadores. Estas entradas se \n",
    "# caracterizan por tener las fechas separadas por un guión, ya sea con espacios como sin espacios, hay patrones. Por ello, para poder hallar\n",
    "# estas fechas hacemos uso de las expresiones regulares que en este caso son: \\s–\\s, las \\s hacen referencia a los espacios, por lo que hallaremos\n",
    "# aquellas entradas que contienen espacios ya sea antes o después del guión; \\w-\\w estas hacen referencia a los guiones que estén seguidos de todo tipo\n",
    "# de caracteres.\n",
    "data = datos_emperadores[datos_emperadores[\"inicio_gobernanza\"].str.contains(r\"(\\s–\\s|–\\s|\\s–|\\w-\\w)\")]\n",
    "\n",
    "pattern = r\"[-–—]\"\n",
    "\n",
    "data[[\"inicio_gobernanza\", \"fin_gobernanza\"]] = (\n",
    "    data[\"inicio_gobernanza\"]\n",
    "    .str.split(pattern, n=1, expand=True)  # Separa solo en el primer guion encontrado\n",
    ")\n",
    "#data[[\"inicio_gobernanza\", \"fin_gobernanza\"]] = data[\"inicio_gobernanza\"].str.split(pattern, expand = True)\n",
    "\n",
    "\n",
    "#datos_emperadores"
   ]
  },
  {
   "cell_type": "code",
   "execution_count": 25,
   "metadata": {},
   "outputs": [
    {
     "data": {
      "text/html": [
       "<div>\n",
       "<style scoped>\n",
       "    .dataframe tbody tr th:only-of-type {\n",
       "        vertical-align: middle;\n",
       "    }\n",
       "\n",
       "    .dataframe tbody tr th {\n",
       "        vertical-align: top;\n",
       "    }\n",
       "\n",
       "    .dataframe thead th {\n",
       "        text-align: right;\n",
       "    }\n",
       "</style>\n",
       "<table border=\"1\" class=\"dataframe\">\n",
       "  <thead>\n",
       "    <tr style=\"text-align: right;\">\n",
       "      <th></th>\n",
       "      <th>nombre</th>\n",
       "      <th>inicio</th>\n",
       "      <th>fin</th>\n",
       "      <th>inicio_gobernanza</th>\n",
       "      <th>fin_gobernanza</th>\n",
       "    </tr>\n",
       "  </thead>\n",
       "  <tbody>\n",
       "    <tr>\n",
       "      <th>24</th>\n",
       "      <td>Diadumeniano</td>\n",
       "      <td>c.16 de mayo –c.8 de junio de 218</td>\n",
       "      <td>c.16 de mayo –c.8 de junio de 218</td>\n",
       "      <td>16 mayo 218</td>\n",
       "      <td>8 junio 218</td>\n",
       "    </tr>\n",
       "    <tr>\n",
       "      <th>28</th>\n",
       "      <td>Gordiano IGordiano II</td>\n",
       "      <td>c.marzo – abril de 238</td>\n",
       "      <td>c.marzo – abril de 238</td>\n",
       "      <td>marzo 238</td>\n",
       "      <td>abril 238</td>\n",
       "    </tr>\n",
       "    <tr>\n",
       "      <th>33</th>\n",
       "      <td>EmilianoMarcus Aemilus Aemilianus</td>\n",
       "      <td>c. julio – septiembre de 253</td>\n",
       "      <td>c. julio – septiembre de 253</td>\n",
       "      <td>julio 253</td>\n",
       "      <td>septiembre 253</td>\n",
       "    </tr>\n",
       "    <tr>\n",
       "      <th>41</th>\n",
       "      <td>Ulpia Severina</td>\n",
       "      <td>c.270 – septiembre/octubre 275</td>\n",
       "      <td>c.270 – septiembre/octubre 275</td>\n",
       "      <td>270</td>\n",
       "      <td>septiembre/octubre 275</td>\n",
       "    </tr>\n",
       "    <tr>\n",
       "      <th>43</th>\n",
       "      <td>FlorianoMarcus Annius Florianus</td>\n",
       "      <td>c. junio – septiembre 276</td>\n",
       "      <td>c. junio – septiembre 276</td>\n",
       "      <td>junio 276</td>\n",
       "      <td>septiembre 276</td>\n",
       "    </tr>\n",
       "    <tr>\n",
       "      <th>63</th>\n",
       "      <td>VetraniónVetranio</td>\n",
       "      <td>1 de marzo – 25 de diciembre de 350</td>\n",
       "      <td>1 de marzo – 25 de diciembre de 350</td>\n",
       "      <td>1 marzo 350</td>\n",
       "      <td>25 diciembre 350</td>\n",
       "    </tr>\n",
       "    <tr>\n",
       "      <th>72</th>\n",
       "      <td>Víctor</td>\n",
       "      <td>384 – 388</td>\n",
       "      <td>384 – 388</td>\n",
       "      <td>384</td>\n",
       "      <td>388</td>\n",
       "    </tr>\n",
       "    <tr>\n",
       "      <th>80</th>\n",
       "      <td>Constancio IIIConstantius</td>\n",
       "      <td>8 de febrero – 2 de septiembre de421</td>\n",
       "      <td>8 de febrero – 2 de septiembre de421</td>\n",
       "      <td>8 febrero 421</td>\n",
       "      <td>2 septiembre 421</td>\n",
       "    </tr>\n",
       "    <tr>\n",
       "      <th>83</th>\n",
       "      <td>Petronio MáximoPetronius Maximus</td>\n",
       "      <td>17 de marzo – 31 de mayo de455</td>\n",
       "      <td>17 de marzo – 31 de mayo de455</td>\n",
       "      <td>17 marzo 455</td>\n",
       "      <td>31 mayo 455</td>\n",
       "    </tr>\n",
       "    <tr>\n",
       "      <th>88</th>\n",
       "      <td>Anicio OlibrioAnicius Olybrius</td>\n",
       "      <td>11 de julio – 2 de noviembre de472</td>\n",
       "      <td>11 de julio – 2 de noviembre de472</td>\n",
       "      <td>11 julio 472</td>\n",
       "      <td>2 noviembre 472</td>\n",
       "    </tr>\n",
       "  </tbody>\n",
       "</table>\n",
       "</div>"
      ],
      "text/plain": [
       "                               nombre                                inicio  \\\n",
       "24                       Diadumeniano     c.16 de mayo –c.8 de junio de 218   \n",
       "28              Gordiano IGordiano II                c.marzo – abril de 238   \n",
       "33  EmilianoMarcus Aemilus Aemilianus          c. julio – septiembre de 253   \n",
       "41                     Ulpia Severina        c.270 – septiembre/octubre 275   \n",
       "43    FlorianoMarcus Annius Florianus             c. junio – septiembre 276   \n",
       "63                  VetraniónVetranio   1 de marzo – 25 de diciembre de 350   \n",
       "72                             Víctor                             384 – 388   \n",
       "80          Constancio IIIConstantius  8 de febrero – 2 de septiembre de421   \n",
       "83   Petronio MáximoPetronius Maximus        17 de marzo – 31 de mayo de455   \n",
       "88     Anicio OlibrioAnicius Olybrius    11 de julio – 2 de noviembre de472   \n",
       "\n",
       "                                     fin inicio_gobernanza  \\\n",
       "24     c.16 de mayo –c.8 de junio de 218       16 mayo 218   \n",
       "28                c.marzo – abril de 238         marzo 238   \n",
       "33          c. julio – septiembre de 253         julio 253   \n",
       "41        c.270 – septiembre/octubre 275               270   \n",
       "43             c. junio – septiembre 276         junio 276   \n",
       "63   1 de marzo – 25 de diciembre de 350       1 marzo 350   \n",
       "72                             384 – 388               384   \n",
       "80  8 de febrero – 2 de septiembre de421     8 febrero 421   \n",
       "83        17 de marzo – 31 de mayo de455      17 marzo 455   \n",
       "88    11 de julio – 2 de noviembre de472      11 julio 472   \n",
       "\n",
       "            fin_gobernanza  \n",
       "24             8 junio 218  \n",
       "28               abril 238  \n",
       "33          septiembre 253  \n",
       "41  septiembre/octubre 275  \n",
       "43          septiembre 276  \n",
       "63        25 diciembre 350  \n",
       "72                     388  \n",
       "80        2 septiembre 421  \n",
       "83             31 mayo 455  \n",
       "88         2 noviembre 472  "
      ]
     },
     "execution_count": 25,
     "metadata": {},
     "output_type": "execute_result"
    }
   ],
   "source": [
    "data"
   ]
  },
  {
   "cell_type": "code",
   "execution_count": 26,
   "metadata": {},
   "outputs": [
    {
     "data": {
      "text/plain": [
       "array(['16 enero 27 a. C.', '17 septiembre 14', '16 marzo 37',\n",
       "       '24 enero 41', '13 octubre 54', '8 junio 68',\n",
       "       '15 enero–16 abril 69', '19 abril–20/22 diciembre 69',\n",
       "       '1 julio 69', '24 junio 79', '14 septiembre 81',\n",
       "       '18 septiembre 96', '28 enero 98', '11 agosto 117', '10 julio 138',\n",
       "       '7 marzo 161', '17 marzo 180', '31 diciembre 192',\n",
       "       '28 marzo–2 junio 193', '9 abril 193', '4 febrero 211',\n",
       "       '12 abril 217', '16 mayo 218', '13 marzo 222', ' marzo 235',\n",
       "       'marzo 238', ' julio 238', ' febrero 244', ' septbre 249',\n",
       "       ' junio 251', ' julio 253', '—', ' septiembre 253', ' julio 260',\n",
       "       'septiembre 268', '270', ' mayo 270', ' noviembre 275',\n",
       "       ' junio 276', ' septiembre 282', ' septiembre 283',\n",
       "       '20 noviembre 284', '1 abril 286', '1 mayo 305', '25 julio 306',\n",
       "       '28 octubre 306', '1 mayo 310', '11 novbre. 308', 'Diciembre 316',\n",
       "       '9 septiembre 337', '18 enero 350', '3–30 junio 350',\n",
       "       '1 marzo 350', '3 noviembre 361', '27 junio 363',\n",
       "       '25/26 febrero364', '28 marzo 364', '26 sept. 365',\n",
       "       '17 novbre. 375', '25 agosto 383', '384', '28 agosto 388',\n",
       "       '22 agosto 392', '19 enero 379', '17 enero 395', '407',\n",
       "       '409 / 410', '409', '8 febrero 421', '20 noviembre 423',\n",
       "       '23 octubre425', '17 marzo 455', '9 julio 455', '28 diciembre457',\n",
       "       '19 noviembre 461', '12 abril 467', '11 julio 472',\n",
       "       '3/5 marzo 473', '24 junio 474', '31 octubre 475'], dtype=object)"
      ]
     },
     "execution_count": 26,
     "metadata": {},
     "output_type": "execute_result"
    }
   ],
   "source": [
    "datos_emperadores[\"inicio_gobernanza\"].unique()"
   ]
  },
  {
   "cell_type": "code",
   "execution_count": null,
   "metadata": {},
   "outputs": [],
   "source": []
  },
  {
   "cell_type": "code",
   "execution_count": 30,
   "metadata": {},
   "outputs": [
    {
     "name": "stdout",
     "output_type": "stream",
     "text": [
      "'15  enero–16  abril  69'\n"
     ]
    }
   ],
   "source": [
    "print(repr(datos_emperadores[\"fin_gobernanza\"][6]))\n"
   ]
  },
  {
   "cell_type": "code",
   "execution_count": 33,
   "metadata": {},
   "outputs": [
    {
     "data": {
      "text/plain": [
       "['15  enero', '16  abril  69']"
      ]
     },
     "execution_count": 33,
     "metadata": {},
     "output_type": "execute_result"
    }
   ],
   "source": [
    "fecha = datos_emperadores[\"fin_gobernanza\"][6]\n",
    "partes = re.split(r\"[-–—]\", fecha)\n",
    "partes"
   ]
  }
 ],
 "metadata": {
  "kernelspec": {
   "display_name": "Python 3",
   "language": "python",
   "name": "python3"
  },
  "language_info": {
   "codemirror_mode": {
    "name": "ipython",
    "version": 3
   },
   "file_extension": ".py",
   "mimetype": "text/x-python",
   "name": "python",
   "nbconvert_exporter": "python",
   "pygments_lexer": "ipython3",
   "version": "3.12.4"
  }
 },
 "nbformat": 4,
 "nbformat_minor": 2
}
